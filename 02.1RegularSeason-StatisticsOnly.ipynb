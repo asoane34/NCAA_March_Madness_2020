{
 "cells": [
  {
   "cell_type": "markdown",
   "metadata": {},
   "source": [
    "# Level 0 Regular Season Statistic Linear Models"
   ]
  },
  {
   "cell_type": "code",
   "execution_count": 1,
   "metadata": {},
   "outputs": [],
   "source": [
    "import sys\n",
    "import os\n",
    "import json\n",
    "import pickle\n",
    "import pandas as pd\n",
    "import numpy as np\n",
    "import matplotlib.pyplot as plt\n",
    "%matplotlib inline\n",
    "import seaborn as sns\n",
    "from statsmodels.stats.outliers_influence import variance_inflation_factor\n",
    "from sklearn.preprocessing import StandardScaler\n",
    "from sklearn.model_selection import GridSearchCV, KFold, cross_val_score\n",
    "from sklearn.linear_model import LogisticRegression, SGDClassifier\n",
    "from sklearn.metrics import roc_auc_score, accuracy_score\n",
    "sys.path.append(\"/Users/atticussoane/Desktop/atticus_tools/\")\n",
    "from recursive_selection import FeatureSelector"
   ]
  },
  {
   "cell_type": "code",
   "execution_count": 2,
   "metadata": {},
   "outputs": [],
   "source": [
    "training = pd.read_csv(\"./engineered_data/regular_season_stat_training.csv.gz\",\n",
    "                      compression = \"gzip\")\n",
    "validation = pd.read_csv(\"./engineered_data/regular_season_stat_validation.csv.gz\",\n",
    "                        compression = \"gzip\")\n",
    "\n",
    "training = pd.concat([training, validation], axis = 0).reset_index(drop = True)\n",
    "\n",
    "train_target = training[\"team1_win\"]\n",
    "training = training.drop(columns = [\"team1_win\"])"
   ]
  },
  {
   "cell_type": "code",
   "execution_count": 3,
   "metadata": {},
   "outputs": [
    {
     "data": {
      "text/html": [
       "<div>\n",
       "<style scoped>\n",
       "    .dataframe tbody tr th:only-of-type {\n",
       "        vertical-align: middle;\n",
       "    }\n",
       "\n",
       "    .dataframe tbody tr th {\n",
       "        vertical-align: top;\n",
       "    }\n",
       "\n",
       "    .dataframe thead th {\n",
       "        text-align: right;\n",
       "    }\n",
       "</style>\n",
       "<table border=\"1\" class=\"dataframe\">\n",
       "  <thead>\n",
       "    <tr style=\"text-align: right;\">\n",
       "      <th></th>\n",
       "      <th>team1_DRB_DIF</th>\n",
       "      <th>team1_ORB_DIF</th>\n",
       "      <th>team1_PPG</th>\n",
       "      <th>team1_PPP</th>\n",
       "      <th>team1_TRB_DIF</th>\n",
       "      <th>team1_ast_TO</th>\n",
       "      <th>team1_e_fg</th>\n",
       "      <th>team1_fg</th>\n",
       "      <th>team1_free_throw_pct</th>\n",
       "      <th>team1_opp_PPG</th>\n",
       "      <th>...</th>\n",
       "      <th>team2_opp_PPG</th>\n",
       "      <th>team2_opp_PPP</th>\n",
       "      <th>team2_opp_ast_TO</th>\n",
       "      <th>team2_opp_efg</th>\n",
       "      <th>team2_opp_fg</th>\n",
       "      <th>team2_opp_three_point_pct</th>\n",
       "      <th>team2_opp_trueshooting</th>\n",
       "      <th>team2_three_point_pct</th>\n",
       "      <th>team2_total_point_differential</th>\n",
       "      <th>team2_true_shooting</th>\n",
       "    </tr>\n",
       "  </thead>\n",
       "  <tbody>\n",
       "    <tr>\n",
       "      <th>count</th>\n",
       "      <td>87504.000000</td>\n",
       "      <td>87504.000000</td>\n",
       "      <td>87504.000000</td>\n",
       "      <td>87504.000000</td>\n",
       "      <td>87504.000000</td>\n",
       "      <td>87504.000000</td>\n",
       "      <td>87504.000000</td>\n",
       "      <td>87504.000000</td>\n",
       "      <td>87502.000000</td>\n",
       "      <td>87504.000000</td>\n",
       "      <td>...</td>\n",
       "      <td>87504.000000</td>\n",
       "      <td>87504.000000</td>\n",
       "      <td>87504.000000</td>\n",
       "      <td>87504.000000</td>\n",
       "      <td>87504.000000</td>\n",
       "      <td>87504.000000</td>\n",
       "      <td>87504.000000</td>\n",
       "      <td>87504.000000</td>\n",
       "      <td>87504.000000</td>\n",
       "      <td>87504.000000</td>\n",
       "    </tr>\n",
       "    <tr>\n",
       "      <th>mean</th>\n",
       "      <td>1.436986</td>\n",
       "      <td>0.565928</td>\n",
       "      <td>67.423198</td>\n",
       "      <td>0.846848</td>\n",
       "      <td>2.002914</td>\n",
       "      <td>0.925575</td>\n",
       "      <td>0.476728</td>\n",
       "      <td>0.420305</td>\n",
       "      <td>0.664881</td>\n",
       "      <td>67.356637</td>\n",
       "      <td>...</td>\n",
       "      <td>67.369700</td>\n",
       "      <td>0.845783</td>\n",
       "      <td>0.919097</td>\n",
       "      <td>0.476582</td>\n",
       "      <td>0.420208</td>\n",
       "      <td>0.330505</td>\n",
       "      <td>0.515214</td>\n",
       "      <td>0.330305</td>\n",
       "      <td>5.556146</td>\n",
       "      <td>0.515702</td>\n",
       "    </tr>\n",
       "    <tr>\n",
       "      <th>std</th>\n",
       "      <td>52.464418</td>\n",
       "      <td>35.061235</td>\n",
       "      <td>14.630522</td>\n",
       "      <td>0.176355</td>\n",
       "      <td>69.939694</td>\n",
       "      <td>0.312456</td>\n",
       "      <td>0.098558</td>\n",
       "      <td>0.086630</td>\n",
       "      <td>0.134263</td>\n",
       "      <td>14.449930</td>\n",
       "      <td>...</td>\n",
       "      <td>14.449074</td>\n",
       "      <td>0.173053</td>\n",
       "      <td>0.307261</td>\n",
       "      <td>0.098062</td>\n",
       "      <td>0.086495</td>\n",
       "      <td>0.075410</td>\n",
       "      <td>0.103741</td>\n",
       "      <td>0.076749</td>\n",
       "      <td>131.961870</td>\n",
       "      <td>0.104510</td>\n",
       "    </tr>\n",
       "    <tr>\n",
       "      <th>min</th>\n",
       "      <td>-357.000000</td>\n",
       "      <td>-202.000000</td>\n",
       "      <td>0.000000</td>\n",
       "      <td>0.000000</td>\n",
       "      <td>-371.000000</td>\n",
       "      <td>0.000000</td>\n",
       "      <td>0.000000</td>\n",
       "      <td>0.000000</td>\n",
       "      <td>0.000000</td>\n",
       "      <td>0.000000</td>\n",
       "      <td>...</td>\n",
       "      <td>0.000000</td>\n",
       "      <td>0.000000</td>\n",
       "      <td>0.000000</td>\n",
       "      <td>0.000000</td>\n",
       "      <td>0.000000</td>\n",
       "      <td>0.000000</td>\n",
       "      <td>0.000000</td>\n",
       "      <td>0.000000</td>\n",
       "      <td>-739.000000</td>\n",
       "      <td>0.000000</td>\n",
       "    </tr>\n",
       "    <tr>\n",
       "      <th>25%</th>\n",
       "      <td>-26.000000</td>\n",
       "      <td>-17.000000</td>\n",
       "      <td>64.157895</td>\n",
       "      <td>0.820401</td>\n",
       "      <td>-34.000000</td>\n",
       "      <td>0.768031</td>\n",
       "      <td>0.463470</td>\n",
       "      <td>0.408840</td>\n",
       "      <td>0.653199</td>\n",
       "      <td>64.428571</td>\n",
       "      <td>...</td>\n",
       "      <td>64.470588</td>\n",
       "      <td>0.825887</td>\n",
       "      <td>0.783186</td>\n",
       "      <td>0.463730</td>\n",
       "      <td>0.408657</td>\n",
       "      <td>0.315789</td>\n",
       "      <td>0.505316</td>\n",
       "      <td>0.312500</td>\n",
       "      <td>-64.000000</td>\n",
       "      <td>0.505155</td>\n",
       "    </tr>\n",
       "    <tr>\n",
       "      <th>50%</th>\n",
       "      <td>0.000000</td>\n",
       "      <td>0.000000</td>\n",
       "      <td>69.300000</td>\n",
       "      <td>0.876212</td>\n",
       "      <td>0.000000</td>\n",
       "      <td>0.923077</td>\n",
       "      <td>0.492043</td>\n",
       "      <td>0.433962</td>\n",
       "      <td>0.688312</td>\n",
       "      <td>69.148148</td>\n",
       "      <td>...</td>\n",
       "      <td>69.150000</td>\n",
       "      <td>0.874670</td>\n",
       "      <td>0.920863</td>\n",
       "      <td>0.491935</td>\n",
       "      <td>0.433533</td>\n",
       "      <td>0.340909</td>\n",
       "      <td>0.532654</td>\n",
       "      <td>0.340541</td>\n",
       "      <td>0.000000</td>\n",
       "      <td>0.533325</td>\n",
       "    </tr>\n",
       "    <tr>\n",
       "      <th>75%</th>\n",
       "      <td>28.000000</td>\n",
       "      <td>18.000000</td>\n",
       "      <td>74.291667</td>\n",
       "      <td>0.925771</td>\n",
       "      <td>37.000000</td>\n",
       "      <td>1.088608</td>\n",
       "      <td>0.519127</td>\n",
       "      <td>0.457286</td>\n",
       "      <td>0.720497</td>\n",
       "      <td>73.888889</td>\n",
       "      <td>...</td>\n",
       "      <td>73.882353</td>\n",
       "      <td>0.919159</td>\n",
       "      <td>1.071812</td>\n",
       "      <td>0.517723</td>\n",
       "      <td>0.456790</td>\n",
       "      <td>0.365217</td>\n",
       "      <td>0.557159</td>\n",
       "      <td>0.367769</td>\n",
       "      <td>71.000000</td>\n",
       "      <td>0.559283</td>\n",
       "    </tr>\n",
       "    <tr>\n",
       "      <th>max</th>\n",
       "      <td>345.000000</td>\n",
       "      <td>243.000000</td>\n",
       "      <td>144.000000</td>\n",
       "      <td>1.539956</td>\n",
       "      <td>393.000000</td>\n",
       "      <td>6.250000</td>\n",
       "      <td>0.824074</td>\n",
       "      <td>0.719298</td>\n",
       "      <td>1.000000</td>\n",
       "      <td>144.000000</td>\n",
       "      <td>...</td>\n",
       "      <td>129.000000</td>\n",
       "      <td>1.401631</td>\n",
       "      <td>29.000000</td>\n",
       "      <td>0.847222</td>\n",
       "      <td>0.777778</td>\n",
       "      <td>0.900000</td>\n",
       "      <td>0.830599</td>\n",
       "      <td>0.750000</td>\n",
       "      <td>772.000000</td>\n",
       "      <td>0.797503</td>\n",
       "    </tr>\n",
       "  </tbody>\n",
       "</table>\n",
       "<p>8 rows × 38 columns</p>\n",
       "</div>"
      ],
      "text/plain": [
       "       team1_DRB_DIF  team1_ORB_DIF     team1_PPG     team1_PPP  \\\n",
       "count   87504.000000   87504.000000  87504.000000  87504.000000   \n",
       "mean        1.436986       0.565928     67.423198      0.846848   \n",
       "std        52.464418      35.061235     14.630522      0.176355   \n",
       "min      -357.000000    -202.000000      0.000000      0.000000   \n",
       "25%       -26.000000     -17.000000     64.157895      0.820401   \n",
       "50%         0.000000       0.000000     69.300000      0.876212   \n",
       "75%        28.000000      18.000000     74.291667      0.925771   \n",
       "max       345.000000     243.000000    144.000000      1.539956   \n",
       "\n",
       "       team1_TRB_DIF  team1_ast_TO    team1_e_fg      team1_fg  \\\n",
       "count   87504.000000  87504.000000  87504.000000  87504.000000   \n",
       "mean        2.002914      0.925575      0.476728      0.420305   \n",
       "std        69.939694      0.312456      0.098558      0.086630   \n",
       "min      -371.000000      0.000000      0.000000      0.000000   \n",
       "25%       -34.000000      0.768031      0.463470      0.408840   \n",
       "50%         0.000000      0.923077      0.492043      0.433962   \n",
       "75%        37.000000      1.088608      0.519127      0.457286   \n",
       "max       393.000000      6.250000      0.824074      0.719298   \n",
       "\n",
       "       team1_free_throw_pct  team1_opp_PPG  ...  team2_opp_PPG  team2_opp_PPP  \\\n",
       "count          87502.000000   87504.000000  ...   87504.000000   87504.000000   \n",
       "mean               0.664881      67.356637  ...      67.369700       0.845783   \n",
       "std                0.134263      14.449930  ...      14.449074       0.173053   \n",
       "min                0.000000       0.000000  ...       0.000000       0.000000   \n",
       "25%                0.653199      64.428571  ...      64.470588       0.825887   \n",
       "50%                0.688312      69.148148  ...      69.150000       0.874670   \n",
       "75%                0.720497      73.888889  ...      73.882353       0.919159   \n",
       "max                1.000000     144.000000  ...     129.000000       1.401631   \n",
       "\n",
       "       team2_opp_ast_TO  team2_opp_efg  team2_opp_fg  \\\n",
       "count      87504.000000   87504.000000  87504.000000   \n",
       "mean           0.919097       0.476582      0.420208   \n",
       "std            0.307261       0.098062      0.086495   \n",
       "min            0.000000       0.000000      0.000000   \n",
       "25%            0.783186       0.463730      0.408657   \n",
       "50%            0.920863       0.491935      0.433533   \n",
       "75%            1.071812       0.517723      0.456790   \n",
       "max           29.000000       0.847222      0.777778   \n",
       "\n",
       "       team2_opp_three_point_pct  team2_opp_trueshooting  \\\n",
       "count               87504.000000            87504.000000   \n",
       "mean                    0.330505                0.515214   \n",
       "std                     0.075410                0.103741   \n",
       "min                     0.000000                0.000000   \n",
       "25%                     0.315789                0.505316   \n",
       "50%                     0.340909                0.532654   \n",
       "75%                     0.365217                0.557159   \n",
       "max                     0.900000                0.830599   \n",
       "\n",
       "       team2_three_point_pct  team2_total_point_differential  \\\n",
       "count           87504.000000                    87504.000000   \n",
       "mean                0.330305                        5.556146   \n",
       "std                 0.076749                      131.961870   \n",
       "min                 0.000000                     -739.000000   \n",
       "25%                 0.312500                      -64.000000   \n",
       "50%                 0.340541                        0.000000   \n",
       "75%                 0.367769                       71.000000   \n",
       "max                 0.750000                      772.000000   \n",
       "\n",
       "       team2_true_shooting  \n",
       "count         87504.000000  \n",
       "mean              0.515702  \n",
       "std               0.104510  \n",
       "min               0.000000  \n",
       "25%               0.505155  \n",
       "50%               0.533325  \n",
       "75%               0.559283  \n",
       "max               0.797503  \n",
       "\n",
       "[8 rows x 38 columns]"
      ]
     },
     "execution_count": 3,
     "metadata": {},
     "output_type": "execute_result"
    }
   ],
   "source": [
    "training.describe()"
   ]
  },
  {
   "cell_type": "code",
   "execution_count": 5,
   "metadata": {},
   "outputs": [
    {
     "data": {
      "image/png": "[encoded data removed]",
      "text/plain": [
       "<Figure size 720x720 with 2 Axes>"
      ]
     },
     "metadata": {
      "needs_background": "light"
     },
     "output_type": "display_data"
    }
   ],
   "source": [
    "training_corr = training.corr()\n",
    "\n",
    "fig, ax = plt.subplots(figsize = (10, 10))\n",
    "sns.heatmap(training_corr, cbar = True, vmin = -1, vmax= 1, center = 0,\n",
    "            cmap=sns.diverging_palette(20, 220, n=200), ax = ax);"
   ]
  },
  {
   "cell_type": "code",
   "execution_count": 6,
   "metadata": {},
   "outputs": [
    {
     "data": {
      "text/plain": [
       "team1_opp_efg         team1_opp_fg                 0.993408\n",
       "team2_opp_efg         team2_opp_fg                 0.993362\n",
       "                      team2_opp_trueshooting       0.993260\n",
       "team2_e_fg            team2_true_shooting          0.993137\n",
       "team1_opp_efg         team1_opp_trueshooting       0.993106\n",
       "team1_e_fg            team1_true_shooting          0.993093\n",
       "                      team1_fg                     0.990983\n",
       "team2_e_fg            team2_fg                     0.990852\n",
       "team2_opp_fg          team2_opp_trueshooting       0.988539\n",
       "team1_opp_fg          team1_opp_trueshooting       0.988481\n",
       "team1_fg              team1_true_shooting          0.986860\n",
       "team2_fg              team2_true_shooting          0.986658\n",
       "team2_PPP             team2_true_shooting          0.986638\n",
       "team1_PPP             team1_true_shooting          0.986475\n",
       "team1_opp_PPP         team1_opp_trueshooting       0.985526\n",
       "team2_opp_PPP         team2_opp_trueshooting       0.985503\n",
       "team2_PPP             team2_e_fg                   0.980964\n",
       "team1_PPP             team1_e_fg                   0.980958\n",
       "team1_opp_PPP         team1_opp_efg                0.980759\n",
       "team2_opp_PPP         team2_opp_efg                0.980668\n",
       "team1_opp_PPP         team1_opp_fg                 0.975182\n",
       "team2_opp_PPP         team2_opp_fg                 0.975026\n",
       "team1_PPP             team1_fg                     0.973060\n",
       "team2_PPP             team2_fg                     0.972798\n",
       "team2_opp_PPG         team2_opp_PPP                0.954943\n",
       "team1_opp_PPG         team1_opp_PPP                0.954760\n",
       "team1_PPG             team1_PPP                    0.952403\n",
       "team2_PPG             team2_PPP                    0.952374\n",
       "team2_opp_PPG         team2_opp_trueshooting       0.941991\n",
       "team1_opp_PPG         team1_opp_trueshooting       0.941640\n",
       "team2_opp_PPG         team2_opp_efg                0.938357\n",
       "team1_opp_PPG         team1_opp_efg                0.937867\n",
       "team2_opp_PPG         team2_opp_fg                 0.937428\n",
       "team1_opp_PPG         team1_opp_fg                 0.937207\n",
       "team2_PPG             team2_true_shooting          0.937073\n",
       "team1_PPG             team1_true_shooting          0.936997\n",
       "                      team1_fg                     0.930875\n",
       "                      team1_e_fg                   0.930692\n",
       "team2_PPG             team2_e_fg                   0.930670\n",
       "                      team2_fg                     0.930651\n",
       "team1_free_throw_pct  team1_true_shooting          0.908893\n",
       "team2_free_throw_pct  team2_true_shooting          0.908595\n",
       "team1_opp_efg         team1_opp_three_point_pct    0.905918\n",
       "team2_opp_efg         team2_opp_three_point_pct    0.905485\n",
       "team1_e_fg            team1_three_point_pct        0.904823\n",
       "team2_e_fg            team2_three_point_pct        0.904353\n",
       "dtype: float64"
      ]
     },
     "execution_count": 6,
     "metadata": {},
     "output_type": "execute_result"
    }
   ],
   "source": [
    "abs_corr = training_corr.abs()\n",
    "correlated_pairs = abs_corr.where(np.triu(np.ones(abs_corr.shape), k =1).astype(np.bool)).stack().\\\n",
    "sort_values(ascending = False)\n",
    "\n",
    "correlated_pairs[correlated_pairs > 0.9]"
   ]
  },
  {
   "cell_type": "code",
   "execution_count": 3,
   "metadata": {},
   "outputs": [],
   "source": [
    "def feature_frame_correlation(feature_frame, tol = None):\n",
    "    feature_corr = feature_frame.corr().abs()\n",
    "    correlated_pairs = feature_corr.where(np.triu(np.ones(feature_corr.shape), k =1).\\\n",
    "                                          astype(np.bool)).stack().sort_values(ascending = False)\n",
    "    if tol:\n",
    "        return(correlated_pairs[correlated_pairs > tol])\n",
    "    else:\n",
    "        return(correlated_pairs)\n",
    "    \n",
    "def get_correlation_with_winning(subset, df, target):\n",
    "    df = pd.concat([df, target], axis = 1)\n",
    "    partial = df[subset]\n",
    "    partial_corr = partial.corr().abs()\n",
    "    correlated_pairs = partial_corr.where(np.triu(np.ones(partial_corr.shape), k =1)\\\n",
    "                                      .astype(np.bool)).stack().sort_values(ascending = False)\n",
    "    with_target = []\n",
    "    for i in correlated_pairs.index:\n",
    "        if \"team1_win\" in i:\n",
    "            with_target.append(i)\n",
    "    return(correlated_pairs[with_target])\n",
    "\n",
    "def scale_features(data, binary_features, load_scaler = None, save_scaler = False):\n",
    "    if binary_features:\n",
    "        to_scale = data.drop(columns = binary_features)\n",
    "    else:\n",
    "        to_scale = data\n",
    "    scale_columns = list(to_scale.columns)\n",
    "    npX = np.array(to_scale)\n",
    "    \n",
    "    if not load_scaler:\n",
    "        ss = StandardScaler()\n",
    "        ss.fit(npX)\n",
    "    else:\n",
    "        ss = load_scaler\n",
    "    npX = ss.transform(npX)\n",
    "    scaled_X = pd.DataFrame(npX)\n",
    "    scaled_X.columns = scale_columns\n",
    "    if binary_features:\n",
    "        scaled_X = pd.concat([scaled_X, data[binary_features]], axis = 1)\n",
    "    if save_scaler:\n",
    "        return(scaled_X, ss)\n",
    "    else:\n",
    "        return(scaled_X)\n",
    "\n",
    "def recursive_VIF(training_data, tol, binary_features):\n",
    "    over_tolerance = []\n",
    "    if binary_features:\n",
    "        training_data = training_data.drop(columns = binary_features)\n",
    "    while True:\n",
    "        training_data = training_data.assign(constant = 1)\n",
    "        all_cols = list(training_data.columns)\n",
    "        npX = np.array(training_data)\n",
    "        vif = [variance_inflation_factor(npX, i) for i in np.arange(npX.shape[1])]\n",
    "        vif_ = pd.Series(vif, index = all_cols)\n",
    "        vif_ = vif_.drop('constant')\n",
    "        max_vif = vif_.idxmax()\n",
    "        if vif_.max() > tol:\n",
    "            training_data = training_data.drop(columns = [max_vif, 'constant'])\n",
    "            over_tolerance.append((max_vif, vif_[max_vif]))\n",
    "        else:\n",
    "            return(over_tolerance)\n",
    "        \n",
    "def display_coef(training_data, model):\n",
    "    features = list(training_data.columns)\n",
    "    coefs = list(abs(model.coef_[0]))\n",
    "    coef_frame = pd.DataFrame({\"feature\" : features, \"coefficient\" : coefs}).\\\n",
    "    sort_values(by = [\"coefficient\"], ascending = False)\n",
    "    zero_val = coef_frame[coef_frame.coefficient == 0.].feature\n",
    "    print(\"There are {} coefficients with zero coefficient\".format(len(zero_val)))\n",
    "    print()\n",
    "    print(zero_val.values)\n",
    "    return(coef_frame)"
   ]
  },
  {
   "cell_type": "code",
   "execution_count": 8,
   "metadata": {},
   "outputs": [],
   "source": [
    "scoring = [\"team1_e_fg\", \"team1_PPP\", \"team1_fg\", \"team1_true_shooting\", \"team1_win\",\n",
    "          \"team1_three_point_pct\", \"team1_PPG\", \"team1_ast_TO\"]\n",
    "defense = [\"team1_opp_PPG\", \"team1_opp_PPP\", \"team1_opp_ast_TO\", \"team1_opp_efg\", \"team1_opp_fg\",\n",
    "          \"team1_opp_three_point_pct\", \"team1_opp_trueshooting\", \"team1_win\"]\n",
    "rebounding = [\"team1_ORB_DIF\", \"team1_DRB_DIF\", \"team1_TRB_DIF\", \"team1_total_point_differential\", \"team1_win\"]"
   ]
  },
  {
   "cell_type": "code",
   "execution_count": 9,
   "metadata": {},
   "outputs": [
    {
     "data": {
      "text/plain": [
       "team1_win            team1_ast_TO             0.154065\n",
       "                     team1_PPG                0.104516\n",
       "team1_PPP            team1_win                0.102199\n",
       "team1_fg             team1_win                0.091578\n",
       "team1_e_fg           team1_win                0.089047\n",
       "team1_true_shooting  team1_win                0.083945\n",
       "team1_win            team1_three_point_pct    0.066350\n",
       "dtype: float64"
      ]
     },
     "execution_count": 9,
     "metadata": {},
     "output_type": "execute_result"
    }
   ],
   "source": [
    "get_correlation_with_winning(scoring, training, train_target)"
   ]
  },
  {
   "cell_type": "code",
   "execution_count": 10,
   "metadata": {},
   "outputs": [
    {
     "data": {
      "text/plain": [
       "team1_opp_ast_TO           team1_win    0.114349\n",
       "team1_opp_PPG              team1_win    0.074697\n",
       "team1_opp_PPP              team1_win    0.069390\n",
       "team1_opp_fg               team1_win    0.064122\n",
       "team1_opp_efg              team1_win    0.063251\n",
       "team1_opp_trueshooting     team1_win    0.057692\n",
       "team1_opp_three_point_pct  team1_win    0.041555\n",
       "dtype: float64"
      ]
     },
     "execution_count": 10,
     "metadata": {},
     "output_type": "execute_result"
    }
   ],
   "source": [
    "get_correlation_with_winning(defense, training, train_target)"
   ]
  },
  {
   "cell_type": "code",
   "execution_count": 11,
   "metadata": {},
   "outputs": [
    {
     "data": {
      "text/plain": [
       "team1_total_point_differential  team1_win    0.239567\n",
       "team1_DRB_DIF                   team1_win    0.166698\n",
       "team1_TRB_DIF                   team1_win    0.165030\n",
       "team1_ORB_DIF                   team1_win    0.079760\n",
       "dtype: float64"
      ]
     },
     "execution_count": 11,
     "metadata": {},
     "output_type": "execute_result"
    }
   ],
   "source": [
    "get_correlation_with_winning(rebounding, training, train_target)"
   ]
  },
  {
   "cell_type": "code",
   "execution_count": 5,
   "metadata": {},
   "outputs": [],
   "source": [
    "selected_statistics = [\"team1_ast_TO\", \"team1_PPG\", \"team1_PPP\", \"team2_ast_TO\", \"team2_PPG\", \"team2_PPP\",\n",
    "                      \"team1_opp_ast_TO\", \"team1_opp_PPG\", \"team1_opp_PPP\", \"team2_opp_ast_TO\",\n",
    "                      \"team2_opp_PPG\", \"team2_opp_PPP\", \"team1_total_point_differential\", \n",
    "                      \"team2_total_point_differential\", \"team1_TRB_DIF\", \"team2_TRB_DIF\"]\n",
    "\n",
    "selected_training = training[selected_statistics]"
   ]
  },
  {
   "cell_type": "code",
   "execution_count": 6,
   "metadata": {},
   "outputs": [],
   "source": [
    "with open(\"./models/regular_season_stats_features.json\", \"w+\") as f:\n",
    "    json.dump(selected_statistics, f)"
   ]
  },
  {
   "cell_type": "markdown",
   "metadata": {},
   "source": [
    "# BASELINE"
   ]
  },
  {
   "cell_type": "code",
   "execution_count": 5,
   "metadata": {},
   "outputs": [],
   "source": [
    "game1_indices = selected_training[(selected_training.team1_PPG == 0.) | (selected_training.team2_PPG == 0.)].index\n",
    "\n",
    "reduced_training = selected_training.drop(game1_indices, axis = 0).reset_index(drop = True)"
   ]
  },
  {
   "cell_type": "code",
   "execution_count": 6,
   "metadata": {},
   "outputs": [],
   "source": [
    "train_targetR = train_target.drop(game1_indices, axis = 0).reset_index(drop = True)"
   ]
  },
  {
   "cell_type": "code",
   "execution_count": 20,
   "metadata": {},
   "outputs": [
    {
     "name": "stdout",
     "output_type": "stream",
     "text": [
      "The baseline cross-validated ROC-AUC score for LogisticRegression is 0.7631351780719587\n"
     ]
    }
   ],
   "source": [
    "lr_params = {\n",
    "    \"C\" : 0.1,\n",
    "    \"penalty\" : \"l1\",\n",
    "    \"solver\" : \"liblinear\"\n",
    "}\n",
    "\n",
    "lr = LogisticRegression().set_params(**lr_params)\n",
    "log_cv = cross_val_score(lr, reduced_training, train_targetR, scoring = \"roc_auc\", cv = 10, n_jobs = -1).mean()\n",
    "\n",
    "print(\"The baseline cross-validated ROC-AUC score for LogisticRegression is {}\".format(log_cv))"
   ]
  },
  {
   "cell_type": "code",
   "execution_count": 7,
   "metadata": {},
   "outputs": [],
   "source": [
    "scaled_training, ss = scale_features(reduced_training, [], save_scaler = True)"
   ]
  },
  {
   "cell_type": "code",
   "execution_count": 9,
   "metadata": {},
   "outputs": [],
   "source": [
    "with open(\"./models/regular_season_stat_standard_scaler.pk\", \"wb\") as f:\n",
    "    pickle.dump(ss, f)"
   ]
  },
  {
   "cell_type": "code",
   "execution_count": 25,
   "metadata": {},
   "outputs": [
    {
     "name": "stdout",
     "output_type": "stream",
     "text": [
      "The baseline cross-validated ROC-AUC score with scaled data for LogisticRegression is 0.7634892352432642\n"
     ]
    }
   ],
   "source": [
    "lr = LogisticRegression().set_params(**lr_params)\n",
    "log_cv = cross_val_score(lr, scaled_training, train_targetR, scoring = \"roc_auc\", cv = 10, n_jobs = -1).mean()\n",
    "\n",
    "print(\"The baseline cross-validated ROC-AUC score with scaled data for LogisticRegression is {}\".format(log_cv))"
   ]
  },
  {
   "cell_type": "code",
   "execution_count": 26,
   "metadata": {},
   "outputs": [
    {
     "data": {
      "text/plain": [
       "team1_PPG      team1_PPP        0.808382\n",
       "team2_PPG      team2_PPP        0.807856\n",
       "team1_opp_PPG  team1_opp_PPP    0.805039\n",
       "team2_opp_PPG  team2_opp_PPP    0.803053\n",
       "team2_ast_TO   team2_PPP        0.759262\n",
       "team1_ast_TO   team1_PPP        0.757507\n",
       "dtype: float64"
      ]
     },
     "execution_count": 26,
     "metadata": {},
     "output_type": "execute_result"
    }
   ],
   "source": [
    "feature_frame_correlation(scaled_training, 0.75)"
   ]
  },
  {
   "cell_type": "code",
   "execution_count": 27,
   "metadata": {},
   "outputs": [
    {
     "data": {
      "text/plain": [
       "[('team1_PPG', 15.126977291044918), ('team2_PPG', 14.603068645326744)]"
      ]
     },
     "execution_count": 27,
     "metadata": {},
     "output_type": "execute_result"
    }
   ],
   "source": [
    "recursive_VIF(scaled_training, 5.0, [])"
   ]
  },
  {
   "cell_type": "code",
   "execution_count": 28,
   "metadata": {},
   "outputs": [
    {
     "name": "stdout",
     "output_type": "stream",
     "text": [
      "The baseline cross-validated ROC-AUC score with scaled data for LogisticRegression is 0.7595053051542868\n"
     ]
    }
   ],
   "source": [
    "drop_cols = [\"team2_PPG\", \"team1_PPG\", \"team1_opp_PPG\", \"team2_opp_PPG\"]\n",
    "\n",
    "lr = LogisticRegression().set_params(**lr_params)\n",
    "log_cv = cross_val_score(lr, scaled_training.drop(columns = drop_cols), \n",
    "                         train_targetR, scoring = \"roc_auc\", cv = 10, n_jobs = -1).mean()\n",
    "\n",
    "print(\"The baseline cross-validated ROC-AUC score with scaled data for LogisticRegression is {}\".format(log_cv))"
   ]
  },
  {
   "cell_type": "markdown",
   "metadata": {},
   "source": [
    "## L1 Regularization"
   ]
  },
  {
   "cell_type": "code",
   "execution_count": 29,
   "metadata": {},
   "outputs": [
    {
     "name": "stdout",
     "output_type": "stream",
     "text": [
      "Best score: 0.7635056722479091\n",
      "\n",
      "Best parameters: {'C': 10.0, 'fit_intercept': False, 'solver': 'liblinear'}\n"
     ]
    }
   ],
   "source": [
    "l1_param_search = {\n",
    "    \"solver\" : [\"liblinear\", \"saga\"],\n",
    "    \"fit_intercept\" : [True, False],\n",
    "    \"C\" : [0.01, 0.1, 1.0, 10.0]\n",
    "}\n",
    "\n",
    "model = LogisticRegression(penalty = \"l1\")\n",
    "grid_search = GridSearchCV(model, param_grid = l1_param_search, scoring = \"roc_auc\", n_jobs = -1,\n",
    "                          cv = 5)\n",
    "\n",
    "grid_search.fit(scaled_training, train_targetR)\n",
    "print('Best score: {}'.format(grid_search.best_score_))\n",
    "print()\n",
    "print('Best parameters: {}'.format(grid_search.best_params_))"
   ]
  },
  {
   "cell_type": "markdown",
   "metadata": {},
   "source": [
    "## L2 Regularization"
   ]
  },
  {
   "cell_type": "code",
   "execution_count": 32,
   "metadata": {},
   "outputs": [
    {
     "name": "stdout",
     "output_type": "stream",
     "text": [
      "Best score: 0.7635062258087788\n",
      "\n",
      "Best parameters: {'C': 10.0, 'fit_intercept': False, 'solver': 'liblinear'}\n"
     ]
    }
   ],
   "source": [
    "l2_param_search = {\n",
    "    \"solver\" : [\"newton-cg\", \"lbfgs\", \"sag\", \"saga\", \"liblinear\"],\n",
    "    \"fit_intercept\" : [True, False],\n",
    "    \"C\" : [0.01, 0.1, 1.0, 10.0]\n",
    "}\n",
    "\n",
    "model = LogisticRegression(penalty = \"l2\")\n",
    "grid_search = GridSearchCV(model, param_grid = l2_param_search, scoring = \"roc_auc\", n_jobs = -1,\n",
    "                          cv = 5)\n",
    "\n",
    "grid_search.fit(scaled_training, train_targetR)\n",
    "print('Best score: {}'.format(grid_search.best_score_))\n",
    "print()\n",
    "print('Best parameters: {}'.format(grid_search.best_params_))"
   ]
  },
  {
   "cell_type": "markdown",
   "metadata": {},
   "source": [
    "## ElasticNet Regularization"
   ]
  },
  {
   "cell_type": "code",
   "execution_count": 35,
   "metadata": {},
   "outputs": [
    {
     "name": "stdout",
     "output_type": "stream",
     "text": [
      "Best score: 0.7635011271956496\n",
      "\n",
      "Best parameters: {'C': 10.0, 'fit_intercept': False, 'l1_ratio': 0.1}\n"
     ]
    },
    {
     "name": "stderr",
     "output_type": "stream",
     "text": [
      "/anaconda3/lib/python3.7/site-packages/sklearn/linear_model/sag.py:337: ConvergenceWarning: The max_iter was reached which means the coef_ did not converge\n",
      "  \"the coef_ did not converge\", ConvergenceWarning)\n"
     ]
    }
   ],
   "source": [
    "elasticnet_param_search = {\n",
    "    \"C\" : [0.01, 0.1, 1.0, 10., 100.],\n",
    "    \"fit_intercept\" : [True, False],\n",
    "    \"l1_ratio\" : [0.1, 0.25, 0.5, 0.75]\n",
    "}\n",
    "\n",
    "model = LogisticRegression(penalty = \"elasticnet\", solver = \"saga\")\n",
    "grid_search = GridSearchCV(model, param_grid = elasticnet_param_search, scoring = \"roc_auc\", n_jobs = -1,\n",
    "                          cv = 5)\n",
    "\n",
    "grid_search.fit(scaled_training, train_targetR)\n",
    "print('Best score: {}'.format(grid_search.best_score_))\n",
    "print()\n",
    "print('Best parameters: {}'.format(grid_search.best_params_))"
   ]
  },
  {
   "cell_type": "markdown",
   "metadata": {},
   "source": [
    "With a high value for __C__ and virtually the same evaluation regardless of what regularization penalty is chosen, these results show that adding a regularization penalty is not helping the model. This is concerning because it likely means the model is overfitting to the training data, but for now we will go with it. "
   ]
  },
  {
   "cell_type": "code",
   "execution_count": 38,
   "metadata": {},
   "outputs": [
    {
     "name": "stdout",
     "output_type": "stream",
     "text": [
      "The tuned cross-validated ROC-AUC score for LogisticRegression is 0.7634898198670469\n"
     ]
    }
   ],
   "source": [
    "best_params = {\n",
    "    \"penalty\" : \"l1\",\n",
    "    \"solver\" : \"liblinear\",\n",
    "    \"C\" : 10.0,\n",
    "    \"fit_intercept\" : False\n",
    "}\n",
    "\n",
    "lr = LogisticRegression().set_params(**lr_params)\n",
    "log_cv = cross_val_score(lr, scaled_training, train_targetR, scoring = \"roc_auc\", cv = 10, n_jobs = -1).mean()\n",
    "\n",
    "print(\"The tuned cross-validated ROC-AUC score for LogisticRegression is {}\".format(log_cv))"
   ]
  },
  {
   "cell_type": "markdown",
   "metadata": {},
   "source": [
    "We are not seeing any improvement through feature parameter tuning. Moving on to a different linear model."
   ]
  },
  {
   "cell_type": "markdown",
   "metadata": {},
   "source": [
    "## SGD Classifier"
   ]
  },
  {
   "cell_type": "markdown",
   "metadata": {},
   "source": [
    "## Hinge Loss- SVM"
   ]
  },
  {
   "cell_type": "code",
   "execution_count": 12,
   "metadata": {},
   "outputs": [
    {
     "name": "stdout",
     "output_type": "stream",
     "text": [
      "Best score: 0.763499363073824\n",
      "\n",
      "Best parameters: {'alpha': 0.0001, 'learning_rate': 'adaptive', 'loss': 'squared_hinge', 'penalty': 'elasticnet'}\n"
     ]
    }
   ],
   "source": [
    "SVM_param_search = {\n",
    "    \"loss\" : [\"hinge\", \"squared_hinge\"],\n",
    "    \"penalty\" : [\"l1\", \"l2\", \"elasticnet\"],\n",
    "    \"alpha\" : [0.0001, 0.001, 0.1],\n",
    "    \"learning_rate\" : [\"optimal\", \"adaptive\"]    \n",
    "}\n",
    "\n",
    "model = SGDClassifier(fit_intercept = False, eta0 = 0.1)\n",
    "grid_search = GridSearchCV(model, param_grid = SVM_param_search, scoring = \"roc_auc\", n_jobs = -1,\n",
    "                          cv = 5)\n",
    "\n",
    "grid_search.fit(scaled_training, train_targetR)\n",
    "print('Best score: {}'.format(grid_search.best_score_))\n",
    "print()\n",
    "print('Best parameters: {}'.format(grid_search.best_params_))"
   ]
  },
  {
   "cell_type": "markdown",
   "metadata": {},
   "source": [
    "## Modified Huber Loss"
   ]
  },
  {
   "cell_type": "code",
   "execution_count": 13,
   "metadata": {},
   "outputs": [
    {
     "name": "stdout",
     "output_type": "stream",
     "text": [
      "Best score: 0.7634964615445852\n",
      "\n",
      "Best parameters: {'alpha': 0.0001, 'learning_rate': 'adaptive', 'penalty': 'l1'}\n"
     ]
    }
   ],
   "source": [
    "MH_param_search = {\n",
    "    \"penalty\" : [\"l1\", \"l2\", \"elasticnet\"],\n",
    "    \"alpha\" : [0.0001, 0.001, 0.01, 0.1],\n",
    "    \"learning_rate\" : [\"optimal\", \"adaptive\"]\n",
    "}\n",
    "\n",
    "model = SGDClassifier(fit_intercept = False, eta0 = 0.1, loss = \"modified_huber\")\n",
    "grid_search = GridSearchCV(model, param_grid = MH_param_search, scoring = \"roc_auc\", n_jobs = -1,\n",
    "                          cv = 5)\n",
    "\n",
    "grid_search.fit(scaled_training, train_targetR)\n",
    "print('Best score: {}'.format(grid_search.best_score_))\n",
    "print()\n",
    "print('Best parameters: {}'.format(grid_search.best_params_))"
   ]
  },
  {
   "cell_type": "markdown",
   "metadata": {},
   "source": [
    "## Check Learning Rate, as adaptive learning rate was used"
   ]
  },
  {
   "cell_type": "code",
   "execution_count": 16,
   "metadata": {},
   "outputs": [
    {
     "name": "stdout",
     "output_type": "stream",
     "text": [
      "Best score: 0.763502803318083\n",
      "\n",
      "Best parameters: {'eta0': 0.1}\n"
     ]
    }
   ],
   "source": [
    "LR_search = {\n",
    "    \"eta0\" : [0.01, 0.1, 1.0, 10.]\n",
    "}\n",
    "\n",
    "SGD_params = {\n",
    "    \"penalty\" : \"elasticnet\",\n",
    "    \"learning_rate\" : \"adaptive\",\n",
    "    \"alpha\" : 0.0001,\n",
    "    \"loss\" : \"squared_hinge\",\n",
    "    \"fit_intercept\" : False,\n",
    "    \"eta0\" : 0.1\n",
    "}\n",
    "\n",
    "model = SGDClassifier().set_params(**SGD_params)\n",
    "grid_search = GridSearchCV(model, param_grid = LR_search, scoring = \"roc_auc\", n_jobs = -1,\n",
    "                          cv = 5)\n",
    "\n",
    "grid_search.fit(scaled_training, train_targetR)\n",
    "print('Best score: {}'.format(grid_search.best_score_))\n",
    "print()\n",
    "print('Best parameters: {}'.format(grid_search.best_params_))"
   ]
  },
  {
   "cell_type": "markdown",
   "metadata": {},
   "source": [
    "# TRAIN TWO FINAL LINEAR MODELS - SGDClassifer (SVM) and LogisticRegression"
   ]
  },
  {
   "cell_type": "code",
   "execution_count": 18,
   "metadata": {},
   "outputs": [
    {
     "data": {
      "text/plain": [
       "LogisticRegression(C=10.0, class_weight=None, dual=False, fit_intercept=False,\n",
       "                   intercept_scaling=1, l1_ratio=None, max_iter=100,\n",
       "                   multi_class='warn', n_jobs=None, penalty='l1',\n",
       "                   random_state=None, solver='liblinear', tol=0.0001, verbose=0,\n",
       "                   warm_start=False)"
      ]
     },
     "execution_count": 18,
     "metadata": {},
     "output_type": "execute_result"
    }
   ],
   "source": [
    "##SGDClassifier \n",
    "SGD_params = {\n",
    "    \"loss\" : \"squared_hinge\",\n",
    "    \"penalty\" : \"elasticnet\",\n",
    "    \"alpha\" : 0.0001,\n",
    "    \"learning_rate\" : \"adaptive\",\n",
    "    \"eta0\" : 0.1,\n",
    "    \"fit_intercept\" : False\n",
    "}\n",
    "\n",
    "log_params = {\n",
    "    \"solver\" : \"liblinear\",\n",
    "    \"penalty\" : \"l1\",\n",
    "    \"C\" : 10.,\n",
    "    \"fit_intercept\" : False,\n",
    "}\n",
    "\n",
    "sgd_final = SGDClassifier().set_params(**SGD_params)\n",
    "log_final = LogisticRegression().set_params(**log_params)\n",
    "\n",
    "sgd_final.fit(scaled_training, train_targetR)\n",
    "log_final.fit(scaled_training, train_targetR)"
   ]
  },
  {
   "cell_type": "code",
   "execution_count": 19,
   "metadata": {},
   "outputs": [
    {
     "name": "stdout",
     "output_type": "stream",
     "text": [
      "There are 1 coefficients with zero coefficient\n",
      "\n",
      "['team1_opp_ast_TO']\n",
      "There are 0 coefficients with zero coefficient\n",
      "\n",
      "[]\n"
     ]
    }
   ],
   "source": [
    "sgd_coef = display_coef(scaled_training, sgd_final)\n",
    "log_coef = display_coef(scaled_training, log_final)"
   ]
  },
  {
   "cell_type": "code",
   "execution_count": 20,
   "metadata": {},
   "outputs": [
    {
     "data": {
      "text/html": [
       "<div>\n",
       "<style scoped>\n",
       "    .dataframe tbody tr th:only-of-type {\n",
       "        vertical-align: middle;\n",
       "    }\n",
       "\n",
       "    .dataframe tbody tr th {\n",
       "        vertical-align: top;\n",
       "    }\n",
       "\n",
       "    .dataframe thead th {\n",
       "        text-align: right;\n",
       "    }\n",
       "</style>\n",
       "<table border=\"1\" class=\"dataframe\">\n",
       "  <thead>\n",
       "    <tr style=\"text-align: right;\">\n",
       "      <th></th>\n",
       "      <th>feature</th>\n",
       "      <th>coefficient</th>\n",
       "    </tr>\n",
       "  </thead>\n",
       "  <tbody>\n",
       "    <tr>\n",
       "      <th>7</th>\n",
       "      <td>team1_opp_PPG</td>\n",
       "      <td>0.237488</td>\n",
       "    </tr>\n",
       "    <tr>\n",
       "      <th>1</th>\n",
       "      <td>team1_PPG</td>\n",
       "      <td>0.236688</td>\n",
       "    </tr>\n",
       "    <tr>\n",
       "      <th>10</th>\n",
       "      <td>team2_opp_PPG</td>\n",
       "      <td>0.227658</td>\n",
       "    </tr>\n",
       "    <tr>\n",
       "      <th>4</th>\n",
       "      <td>team2_PPG</td>\n",
       "      <td>0.226849</td>\n",
       "    </tr>\n",
       "    <tr>\n",
       "      <th>12</th>\n",
       "      <td>team1_total_point_differential</td>\n",
       "      <td>0.178461</td>\n",
       "    </tr>\n",
       "    <tr>\n",
       "      <th>13</th>\n",
       "      <td>team2_total_point_differential</td>\n",
       "      <td>0.177317</td>\n",
       "    </tr>\n",
       "    <tr>\n",
       "      <th>11</th>\n",
       "      <td>team2_opp_PPP</td>\n",
       "      <td>0.082791</td>\n",
       "    </tr>\n",
       "    <tr>\n",
       "      <th>8</th>\n",
       "      <td>team1_opp_PPP</td>\n",
       "      <td>0.080052</td>\n",
       "    </tr>\n",
       "    <tr>\n",
       "      <th>5</th>\n",
       "      <td>team2_PPP</td>\n",
       "      <td>0.043085</td>\n",
       "    </tr>\n",
       "    <tr>\n",
       "      <th>2</th>\n",
       "      <td>team1_PPP</td>\n",
       "      <td>0.042937</td>\n",
       "    </tr>\n",
       "    <tr>\n",
       "      <th>3</th>\n",
       "      <td>team2_ast_TO</td>\n",
       "      <td>0.033136</td>\n",
       "    </tr>\n",
       "    <tr>\n",
       "      <th>0</th>\n",
       "      <td>team1_ast_TO</td>\n",
       "      <td>0.019027</td>\n",
       "    </tr>\n",
       "    <tr>\n",
       "      <th>9</th>\n",
       "      <td>team2_opp_ast_TO</td>\n",
       "      <td>0.016061</td>\n",
       "    </tr>\n",
       "    <tr>\n",
       "      <th>14</th>\n",
       "      <td>team1_TRB_DIF</td>\n",
       "      <td>0.007450</td>\n",
       "    </tr>\n",
       "    <tr>\n",
       "      <th>15</th>\n",
       "      <td>team2_TRB_DIF</td>\n",
       "      <td>0.002612</td>\n",
       "    </tr>\n",
       "    <tr>\n",
       "      <th>6</th>\n",
       "      <td>team1_opp_ast_TO</td>\n",
       "      <td>0.000000</td>\n",
       "    </tr>\n",
       "  </tbody>\n",
       "</table>\n",
       "</div>"
      ],
      "text/plain": [
       "                           feature  coefficient\n",
       "7                    team1_opp_PPG     0.237488\n",
       "1                        team1_PPG     0.236688\n",
       "10                   team2_opp_PPG     0.227658\n",
       "4                        team2_PPG     0.226849\n",
       "12  team1_total_point_differential     0.178461\n",
       "13  team2_total_point_differential     0.177317\n",
       "11                   team2_opp_PPP     0.082791\n",
       "8                    team1_opp_PPP     0.080052\n",
       "5                        team2_PPP     0.043085\n",
       "2                        team1_PPP     0.042937\n",
       "3                     team2_ast_TO     0.033136\n",
       "0                     team1_ast_TO     0.019027\n",
       "9                 team2_opp_ast_TO     0.016061\n",
       "14                   team1_TRB_DIF     0.007450\n",
       "15                   team2_TRB_DIF     0.002612\n",
       "6                 team1_opp_ast_TO     0.000000"
      ]
     },
     "execution_count": 20,
     "metadata": {},
     "output_type": "execute_result"
    }
   ],
   "source": [
    "sgd_coef"
   ]
  },
  {
   "cell_type": "code",
   "execution_count": 21,
   "metadata": {},
   "outputs": [
    {
     "data": {
      "text/html": [
       "<div>\n",
       "<style scoped>\n",
       "    .dataframe tbody tr th:only-of-type {\n",
       "        vertical-align: middle;\n",
       "    }\n",
       "\n",
       "    .dataframe tbody tr th {\n",
       "        vertical-align: top;\n",
       "    }\n",
       "\n",
       "    .dataframe thead th {\n",
       "        text-align: right;\n",
       "    }\n",
       "</style>\n",
       "<table border=\"1\" class=\"dataframe\">\n",
       "  <thead>\n",
       "    <tr style=\"text-align: right;\">\n",
       "      <th></th>\n",
       "      <th>feature</th>\n",
       "      <th>coefficient</th>\n",
       "    </tr>\n",
       "  </thead>\n",
       "  <tbody>\n",
       "    <tr>\n",
       "      <th>7</th>\n",
       "      <td>team1_opp_PPG</td>\n",
       "      <td>0.608045</td>\n",
       "    </tr>\n",
       "    <tr>\n",
       "      <th>1</th>\n",
       "      <td>team1_PPG</td>\n",
       "      <td>0.605368</td>\n",
       "    </tr>\n",
       "    <tr>\n",
       "      <th>10</th>\n",
       "      <td>team2_opp_PPG</td>\n",
       "      <td>0.578490</td>\n",
       "    </tr>\n",
       "    <tr>\n",
       "      <th>4</th>\n",
       "      <td>team2_PPG</td>\n",
       "      <td>0.576632</td>\n",
       "    </tr>\n",
       "    <tr>\n",
       "      <th>12</th>\n",
       "      <td>team1_total_point_differential</td>\n",
       "      <td>0.420333</td>\n",
       "    </tr>\n",
       "    <tr>\n",
       "      <th>13</th>\n",
       "      <td>team2_total_point_differential</td>\n",
       "      <td>0.417184</td>\n",
       "    </tr>\n",
       "    <tr>\n",
       "      <th>11</th>\n",
       "      <td>team2_opp_PPP</td>\n",
       "      <td>0.208346</td>\n",
       "    </tr>\n",
       "    <tr>\n",
       "      <th>8</th>\n",
       "      <td>team1_opp_PPP</td>\n",
       "      <td>0.206592</td>\n",
       "    </tr>\n",
       "    <tr>\n",
       "      <th>2</th>\n",
       "      <td>team1_PPP</td>\n",
       "      <td>0.112789</td>\n",
       "    </tr>\n",
       "    <tr>\n",
       "      <th>5</th>\n",
       "      <td>team2_PPP</td>\n",
       "      <td>0.109891</td>\n",
       "    </tr>\n",
       "    <tr>\n",
       "      <th>3</th>\n",
       "      <td>team2_ast_TO</td>\n",
       "      <td>0.083452</td>\n",
       "    </tr>\n",
       "    <tr>\n",
       "      <th>0</th>\n",
       "      <td>team1_ast_TO</td>\n",
       "      <td>0.048267</td>\n",
       "    </tr>\n",
       "    <tr>\n",
       "      <th>9</th>\n",
       "      <td>team2_opp_ast_TO</td>\n",
       "      <td>0.040902</td>\n",
       "    </tr>\n",
       "    <tr>\n",
       "      <th>14</th>\n",
       "      <td>team1_TRB_DIF</td>\n",
       "      <td>0.016828</td>\n",
       "    </tr>\n",
       "    <tr>\n",
       "      <th>15</th>\n",
       "      <td>team2_TRB_DIF</td>\n",
       "      <td>0.006578</td>\n",
       "    </tr>\n",
       "    <tr>\n",
       "      <th>6</th>\n",
       "      <td>team1_opp_ast_TO</td>\n",
       "      <td>0.001565</td>\n",
       "    </tr>\n",
       "  </tbody>\n",
       "</table>\n",
       "</div>"
      ],
      "text/plain": [
       "                           feature  coefficient\n",
       "7                    team1_opp_PPG     0.608045\n",
       "1                        team1_PPG     0.605368\n",
       "10                   team2_opp_PPG     0.578490\n",
       "4                        team2_PPG     0.576632\n",
       "12  team1_total_point_differential     0.420333\n",
       "13  team2_total_point_differential     0.417184\n",
       "11                   team2_opp_PPP     0.208346\n",
       "8                    team1_opp_PPP     0.206592\n",
       "2                        team1_PPP     0.112789\n",
       "5                        team2_PPP     0.109891\n",
       "3                     team2_ast_TO     0.083452\n",
       "0                     team1_ast_TO     0.048267\n",
       "9                 team2_opp_ast_TO     0.040902\n",
       "14                   team1_TRB_DIF     0.016828\n",
       "15                   team2_TRB_DIF     0.006578\n",
       "6                 team1_opp_ast_TO     0.001565"
      ]
     },
     "execution_count": 21,
     "metadata": {},
     "output_type": "execute_result"
    }
   ],
   "source": [
    "log_coef"
   ]
  },
  {
   "cell_type": "code",
   "execution_count": 22,
   "metadata": {},
   "outputs": [],
   "source": [
    "with open(\"./models/reg_season_stats_log.pk\", \"wb\") as f:\n",
    "    pickle.dump(log_final, f)\n",
    "\n",
    "with open(\"./models/reg_season_stats_SVM.pk\", \"wb\") as f:\n",
    "    pickle.dump(sgd_final, f)"
   ]
  },
  {
   "cell_type": "code",
   "execution_count": null,
   "metadata": {},
   "outputs": [],
   "source": []
  }
 ],
 "metadata": {
  "kernelspec": {
   "display_name": "Python 3",
   "language": "python",
   "name": "python3"
  },
  "language_info": {
   "codemirror_mode": {
    "name": "ipython",
    "version": 3
   },
   "file_extension": ".py",
   "mimetype": "text/x-python",
   "name": "python",
   "nbconvert_exporter": "python",
   "pygments_lexer": "ipython3",
   "version": "3.7.3"
  }
 },
 "nbformat": 4,
 "nbformat_minor": 2
}
